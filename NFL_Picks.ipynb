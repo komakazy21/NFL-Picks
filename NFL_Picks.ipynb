{
 "cells": [
  {
   "cell_type": "code",
   "execution_count": 1,
   "id": "44546316-40dd-4d90-b0b7-d2f1a819d6e6",
   "metadata": {
    "jupyter": {
     "source_hidden": true
    },
    "tags": []
   },
   "outputs": [
    {
     "data": {
      "application/vnd.jupyter.widget-view+json": {
       "model_id": "f07e2eded1ce41c39f8bed83e22535f8",
       "version_major": 2,
       "version_minor": 0
      },
      "text/plain": [
       "Text(value='', description='Your E-Mail:')"
      ]
     },
     "metadata": {},
     "output_type": "display_data"
    }
   ],
   "source": [
    "import numpy as np\n",
    "import pandas as pd\n",
    "import ipywidgets as widgets\n",
    "\n",
    "\n",
    "spreads = {};\n",
    "spreads['home team'] = ['Eagles', 'Falcons', 'Texans', 'Lions', 'Jaguars', 'Rams', 'Cowboys', 'Patriots', 'Panthers', 'Steelers']\n",
    "spreads['home spread'] = np.array([-7, 1.5, 1, -6, 3, 8, -9.5, 2.5, 3, 2])\n",
    "spreads['road team'] = ['Vikings', 'Packers', 'Colts', 'Seahawks', 'Chiefs', '49ers', 'Jets', 'Dolphins', 'Saints', 'Browns']\n",
    "spreads['road spread'] = spreads['home spread']*-1\n",
    "#df = pd.DataFrame(data=spreads)\n",
    "#df.to_csv('nfl_week2_lines.csv')\n",
    "email_widget = widgets.Text(value='',description='Your E-Mail:', width=300)\n",
    "display(email_widget)"
   ]
  },
  {
   "cell_type": "code",
   "execution_count": 3,
   "id": "3f88a9c4-c95e-4028-857e-31ca5c8b59be",
   "metadata": {
    "jupyter": {
     "source_hidden": true
    },
    "tags": []
   },
   "outputs": [
    {
     "data": {
      "application/vnd.jupyter.widget-view+json": {
       "model_id": "4c272d1a86284427a92d2f44da4ea95e",
       "version_major": 2,
       "version_minor": 0
      },
      "text/plain": [
       "ToggleButtons(description='Pick what type of betting you want to play', index=2, layout=Layout(margin='30px 0p…"
      ]
     },
     "metadata": {},
     "output_type": "display_data"
    },
    {
     "data": {
      "application/vnd.jupyter.widget-view+json": {
       "model_id": "a6a68b925d404af59108f74236906511",
       "version_major": 2,
       "version_minor": 0
      },
      "text/plain": [
       "HTML(value='<b>Single Game Only</b> - Select if you dont want to play teasers or parlays', layout=Layout(width…"
      ]
     },
     "metadata": {},
     "output_type": "display_data"
    },
    {
     "data": {
      "application/vnd.jupyter.widget-view+json": {
       "model_id": "eb1076e6c7ca4be292dd6c0650e8232c",
       "version_major": 2,
       "version_minor": 0
      },
      "text/plain": [
       "HTML(value='<b>2 Team Teaser</b> - Choose 2 games where you will receive 5 points against the line in your fav…"
      ]
     },
     "metadata": {},
     "output_type": "display_data"
    },
    {
     "data": {
      "application/vnd.jupyter.widget-view+json": {
       "model_id": "544fd93f14134af08445b36c6cd54fac",
       "version_major": 2,
       "version_minor": 0
      },
      "text/plain": [
       "HTML(value='<b>3 Team Teaser</b> - Choose 3 games where you will receive 7.5 points against the line in your f…"
      ]
     },
     "metadata": {},
     "output_type": "display_data"
    },
    {
     "data": {
      "application/vnd.jupyter.widget-view+json": {
       "model_id": "aeb3410a216a42cab99e30eb32f33bd8",
       "version_major": 2,
       "version_minor": 0
      },
      "text/plain": [
       "HTML(value='<b>2/3 Team Parlays</b> - Choose 2 teams to double your points or 3 teams to triple your points if…"
      ]
     },
     "metadata": {},
     "output_type": "display_data"
    },
    {
     "data": {
      "application/vnd.jupyter.widget-view+json": {
       "model_id": "40bbf8829ae84daf8547f5eebfb36438",
       "version_major": 2,
       "version_minor": 0
      },
      "text/plain": [
       "HTML(value='<b>Parlay/Teaser Disclaimer - If one of the teams in your parlay/teaser loses, you lose the points…"
      ]
     },
     "metadata": {},
     "output_type": "display_data"
    },
    {
     "data": {
      "application/vnd.jupyter.widget-view+json": {
       "model_id": "e443cb82dc3546fe823da6a82b613011",
       "version_major": 2,
       "version_minor": 0
      },
      "text/plain": [
       "HBox(children=(HTML(value='<b>Game Line</b>', layout=Layout(width='13%'), style=HTMLStyle(font_size='14px')), …"
      ]
     },
     "metadata": {},
     "output_type": "display_data"
    },
    {
     "data": {
      "application/vnd.jupyter.widget-view+json": {
       "model_id": "fc5bc0b2a8134e9e86aaba655f155b42",
       "version_major": 2,
       "version_minor": 0
      },
      "text/plain": [
       "HBox(children=(Label(value='Eagles (0.5) vs. Vikings', layout=Layout(width='10%')), ToggleButtons(options=('Ea…"
      ]
     },
     "metadata": {},
     "output_type": "display_data"
    },
    {
     "data": {
      "application/vnd.jupyter.widget-view+json": {
       "model_id": "a6de65b8caf04b65b5399ed09f52815c",
       "version_major": 2,
       "version_minor": 0
      },
      "text/plain": [
       "HBox(children=(Label(value='Falcons (1.5) vs. Packers', layout=Layout(width='10%')), ToggleButtons(options=('F…"
      ]
     },
     "metadata": {},
     "output_type": "display_data"
    },
    {
     "data": {
      "application/vnd.jupyter.widget-view+json": {
       "model_id": "25ba747c91054f2c9177ca1e8b7d9ee5",
       "version_major": 2,
       "version_minor": 0
      },
      "text/plain": [
       "HBox(children=(Label(value='Texans (1.0) vs. Colts', layout=Layout(width='10%')), ToggleButtons(index=1, optio…"
      ]
     },
     "metadata": {},
     "output_type": "display_data"
    },
    {
     "data": {
      "application/vnd.jupyter.widget-view+json": {
       "model_id": "eec24da01ac44a608899e305c01260aa",
       "version_major": 2,
       "version_minor": 0
      },
      "text/plain": [
       "HBox(children=(Label(value='Lions (-6.0) vs. Seahawks', layout=Layout(width='10%')), ToggleButtons(options=('L…"
      ]
     },
     "metadata": {},
     "output_type": "display_data"
    },
    {
     "data": {
      "application/vnd.jupyter.widget-view+json": {
       "model_id": "5d3755af737244858e8109db35d8a713",
       "version_major": 2,
       "version_minor": 0
      },
      "text/plain": [
       "HBox(children=(Label(value='Jaguars (3.0) vs. Chiefs', layout=Layout(width='10%')), ToggleButtons(options=('Ja…"
      ]
     },
     "metadata": {},
     "output_type": "display_data"
    },
    {
     "data": {
      "application/vnd.jupyter.widget-view+json": {
       "model_id": "4f2be53c676e476f9e361774b88a070c",
       "version_major": 2,
       "version_minor": 0
      },
      "text/plain": [
       "HBox(children=(Label(value='Rams (0.5) vs. 49ers', layout=Layout(width='10%')), ToggleButtons(index=1, options…"
      ]
     },
     "metadata": {},
     "output_type": "display_data"
    },
    {
     "data": {
      "application/vnd.jupyter.widget-view+json": {
       "model_id": "37742fca1c5541199e087ba9551ac326",
       "version_major": 2,
       "version_minor": 0
      },
      "text/plain": [
       "HBox(children=(Label(value='Cowboys (-2.0) vs. Jets', layout=Layout(width='10%')), ToggleButtons(options=('Cow…"
      ]
     },
     "metadata": {},
     "output_type": "display_data"
    },
    {
     "data": {
      "application/vnd.jupyter.widget-view+json": {
       "model_id": "8332d285ff074f41ba85f1fe13718459",
       "version_major": 2,
       "version_minor": 0
      },
      "text/plain": [
       "HBox(children=(Label(value='Patriots (2.5) vs. Dolphins', layout=Layout(width='10%')), ToggleButtons(options=(…"
      ]
     },
     "metadata": {},
     "output_type": "display_data"
    },
    {
     "data": {
      "application/vnd.jupyter.widget-view+json": {
       "model_id": "eb799c1d4136445582f665cbbb14a664",
       "version_major": 2,
       "version_minor": 0
      },
      "text/plain": [
       "HBox(children=(Label(value='Panthers (3.0) vs. Saints', layout=Layout(width='10%')), ToggleButtons(index=1, op…"
      ]
     },
     "metadata": {},
     "output_type": "display_data"
    },
    {
     "data": {
      "application/vnd.jupyter.widget-view+json": {
       "model_id": "10ed2606a54241b9ae7db5713aadac0e",
       "version_major": 2,
       "version_minor": 0
      },
      "text/plain": [
       "HBox(children=(Label(value='Steelers (2.0) vs. Browns', layout=Layout(width='10%')), ToggleButtons(index=1, op…"
      ]
     },
     "metadata": {},
     "output_type": "display_data"
    },
    {
     "data": {
      "application/vnd.jupyter.widget-view+json": {
       "model_id": "4d9765b4589d42508fb72fcff507cb94",
       "version_major": 2,
       "version_minor": 0
      },
      "text/plain": [
       "Output()"
      ]
     },
     "metadata": {},
     "output_type": "display_data"
    },
    {
     "data": {
      "application/vnd.jupyter.widget-view+json": {
       "model_id": "10db9a7082464fd39396323607c7e42a",
       "version_major": 2,
       "version_minor": 0
      },
      "text/plain": [
       "HBox(children=(HTML(value='<b>Lock of the Week Wager:</b>'), IntText(value=10, layout=Layout(width='10%'))))"
      ]
     },
     "metadata": {},
     "output_type": "display_data"
    },
    {
     "data": {
      "application/vnd.jupyter.widget-view+json": {
       "model_id": "39b97ff1372a4075ba127978c639d37d",
       "version_major": 2,
       "version_minor": 0
      },
      "text/plain": [
       "Button(description='Submit Picks', layout=Layout(margin='30px 0px 30px 0px', width='10%'), style=ButtonStyle(b…"
      ]
     },
     "metadata": {},
     "output_type": "display_data"
    },
    {
     "data": {
      "application/vnd.jupyter.widget-view+json": {
       "model_id": "6a1bf7fa75014d92818e424a99f04cff",
       "version_major": 2,
       "version_minor": 0
      },
      "text/plain": [
       "Output()"
      ]
     },
     "metadata": {},
     "output_type": "display_data"
    }
   ],
   "source": [
    "\n",
    "\n",
    "\n",
    "def foo(enh,gl0,gs0,gt0,glotw0,gl1,gs1,gt1,glotw1,gl2,gs2,gt2,glotw2,gl3,gs3,gt3,glotw3,gl4,gs4,gt4,glotw4,gl5,gs5,gt5,glotw5,gl6,gs6,gt6,glotw6,gl7,gs7,gt7,glotw7,gl8,gs8,gt8,glotw8,gl9,gs9,gt9,glotw9):\n",
    "    global tcount,pcount,lcount,teasers,parlays,lotws\n",
    "    tcount=0; pcount=0; lcount=0;\n",
    "\n",
    "    if enh == 'Single Game Only':\n",
    "        tval =0\n",
    "        for i in range(10):\n",
    "            game_type[i].description = 'Single Game Only'\n",
    "            game_type[i].disabled= True\n",
    "\n",
    "    elif (enh == '2 Team Teaser')|(enh == '3 Team Teaser'):\n",
    "        for i in range(10):\n",
    "            game_type[i].description = enh\n",
    "            game_type[i].disabled= False\n",
    "        if enh == '2 Team Teaser':\n",
    "            tval = 5\n",
    "        else:\n",
    "            tval = 7.5\n",
    "       \n",
    "    elif (enh == '2 Team Parlay')|(enh == '3 Team Parlay'):\n",
    "        tval = 0\n",
    "        for i in range(10):\n",
    "            game_type[i].description = enh  \n",
    "            game_type[i].disabled= False\n",
    "\n",
    "    teasers = []; parlays = []; lotws = []\n",
    "    for i in range(10):\n",
    "        if (enh == '2 Team Teaser')|(enh == '3 Team Teaser'):\n",
    "            if game_type[i].value == True:\n",
    "                tcount = tcount + 1\n",
    "                if game_sel[i].value == spreads['home team'][i]:\n",
    "                    game_label[i].value = f'''{spreads['home team'][i]} ({spreads['home spread'][i] + tval}) vs. {spreads['road team'][i]}'''\n",
    "                else:\n",
    "                    game_label[i].value = f'''{spreads['home team'][i]} ({spreads['home spread'][i] - tval}) vs. {spreads['road team'][i]}'''\n",
    "                teasers.append(game_label[i].value)\n",
    "            else:\n",
    "                game_label[i].value = f'''{spreads['home team'][i]} ({spreads['home spread'][i]}) vs. {spreads['road team'][i]}'''\n",
    "        elif (enh == '2 Team Parlay')|(enh == '3 Team Parlay'):\n",
    "            if game_type[i].value == True:\n",
    "                pcount = pcount+1\n",
    "                game_label[i].value = f'''{spreads['home team'][i]} ({spreads['home spread'][i]}) vs. {spreads['road team'][i]}'''\n",
    "                parlays.append(game_label[i].value)\n",
    "        else:\n",
    "            game_label[i].value = f'''{spreads['home team'][i]} ({spreads['home spread'][i]}) vs. {spreads['road team'][i]}'''\n",
    "        \n",
    "        if game_lotw[i].value == True:\n",
    "            lcount=lcount+1\n",
    "\n",
    "game_label = {}; game_sel={}; game_type={}; game_lotw={}; ui={}\n",
    "\n",
    "enh_widget = widgets.ToggleButtons(description='Pick what type of betting you want to play',options=['Single Game Only','2 Team Teaser','3 Team Teaser', '2 Team Parlay', '3 Team Parlay'],layout=widgets.Layout(width='75%',margin='30px 0px 30px 0px'))\n",
    "for i in range(10):\n",
    "    game_label[i] = widgets.Label(value=f'''{spreads['home team'][i]} ({spreads['home spread'][i]}) vs. {spreads['road team'][i]}''', layout=widgets.Layout(width='10%'))\n",
    "    game_sel[i]= widgets.ToggleButtons(description='',value=None,options=[spreads['home team'][i],spreads['road team'][i]])\n",
    "    game_type[i] = widgets.Checkbox(description='Teaser')\n",
    "    game_lotw[i] = widgets.Checkbox(description='Lock of the Week?')\n",
    "    ui[i] = widgets.HBox([ game_label[i], game_sel[i], game_type[i], game_lotw[i]])\n",
    "\n",
    "def submit_picks(b):\n",
    "    global picks_df\n",
    "    # flag = 0\n",
    "    # if lcount != 1:\n",
    "    #     flag = 1\n",
    "    # if (enh_widget.value == '2 Team Teaser') & (tcount != 2):\n",
    "    #     flag = 1\n",
    "    # if (enh_widget.value == '3 Team Teaser') & (tcount != 3):\n",
    "    #     flag = 1\n",
    "    # if (enh_widget.value == '2 Team Parlay') & (pcount != 2):\n",
    "    #     flag = 1\n",
    "    # if (enh_widget.value == '3 Team Parlay') & (pcount != 3):\n",
    "    #     flag = 1\n",
    "    # picks_out.clear_output()\n",
    "    # if flag == 0:\n",
    "    picks = {};\n",
    "    picks['line'] = [ game_label[i].value for i in range(10)]\n",
    "    picks['pick'] = [ game_sel[i].value for i in range(10)]\n",
    "    picks['type'] = [ game_type[i].value for i in range(10)]\n",
    "    picks['lotw'] = [ game_lotw[i].value for i in range(10)]\n",
    "    picks['enh'] = [ enh_widget.value for i in range(10)]\n",
    "    picks['lotw_wager'] = [ lotw_widget.value for i in range(10)]\n",
    "    picks_df = pd.DataFrame(data=picks)\n",
    "    picks_df.to_csv(f'{email}_week1_picks.csv')    \n",
    "    submit_button.style.button_color = 'green'\n",
    "    with picks_out:\n",
    "        print('You Did it! Now download the picks spreadsheet and e-mail it to Eric (erick@vt.edu)')\n",
    "    # else:\n",
    "    #     with picks_out:\n",
    "    #         print('Dude you cant fallow simple directions?  Go back, figure where you fucked up, and try again')\n",
    "    #     submit_button.style.button_color = 'red'\n",
    "        \n",
    "submit_button = widgets.Button(description='Submit Picks',layout=widgets.Layout(width='10%',margin='30px 0px 30px 0px')); submit_button.style.button_color = 'orange'; submit_button.style.font_weight = 'bold'\n",
    "submit_button.on_click(submit_picks)\n",
    "picks_out =widgets.Output()\n",
    "out = widgets.interactive_output(foo,{'enh': enh_widget, \\\n",
    "                                      'gl0':game_label[0],'gs0': game_sel[0], 'gt0':game_type[0], 'glotw0': game_lotw[0] ,\\\n",
    "                                      'gl1':game_label[1],'gs1': game_sel[1], 'gt1':game_type[1], 'glotw1': game_lotw[1] ,\\\n",
    "                                      'gl2':game_label[2],'gs2': game_sel[2], 'gt2':game_type[2], 'glotw2': game_lotw[2] ,\\\n",
    "                                      'gl3':game_label[3],'gs3': game_sel[3], 'gt3':game_type[3], 'glotw3': game_lotw[3] ,\\\n",
    "                                      'gl4':game_label[4],'gs4': game_sel[4], 'gt4':game_type[4], 'glotw4': game_lotw[4] ,\\\n",
    "                                      'gl5':game_label[5],'gs5': game_sel[5], 'gt5':game_type[5], 'glotw5': game_lotw[5] ,\\\n",
    "                                      'gl6':game_label[6],'gs6': game_sel[6], 'gt6':game_type[6], 'glotw6': game_lotw[6] ,\\\n",
    "                                      'gl7':game_label[7],'gs7': game_sel[7], 'gt7':game_type[7], 'glotw7': game_lotw[7] ,\\\n",
    "                                      'gl8':game_label[8],'gs8': game_sel[8], 'gt8':game_type[8], 'glotw8': game_lotw[8] ,\\\n",
    "                                      'gl9':game_label[9],'gs9': game_sel[9], 'gt9':game_type[9], 'glotw9': game_lotw[9] ,\\\n",
    "                                 \n",
    "                                     })\n",
    "\n",
    "desc_widget1 = widgets.HTML(value='<b>Game Line</b>', layout=widgets.Layout(width='13%')); desc_widget1.style.font_size = '14px'; desc_widget1.style.font_weight = 'bold'\n",
    "desc_widget2 = widgets.HTML(value='<b>Home Team</b>', layout=widgets.Layout(width='10%')); desc_widget2.style.font_size = '14px'; desc_widget2.style.font_weight = 'bold'\n",
    "desc_widget5 = widgets.HTML(value='<b>Road Team</b>', layout=widgets.Layout(width='9%')); desc_widget5.style.font_size = '14px'; desc_widget5.style.font_weight = 'bold'\n",
    "desc_widget3 = widgets.HTML(value='<b>Select Games to Tease/Parlay</b>', layout=widgets.Layout(width='18%')); desc_widget3.style.font_size = '14px'; desc_widget3.style.font_weight = 'bold'\n",
    "desc_widget4 = widgets.HTML(value='<b>Select one game for LOTW</b>', layout=widgets.Layout(width='12%')); desc_widget4.style.font_size = '14px'; desc_widget4.style.font_weight = 'bold'\n",
    "lotw_label = widgets.HTML(value='<b>Lock of the Week Wager:</b>')\n",
    "lotw_widget = widgets.IntText(value=5,min=5,max=10, layout=widgets.Layout(width='10%'))\n",
    "global email\n",
    "email = email_widget.value\n",
    "try:\n",
    "    picks_df = pd.read_csv(f'{email}_week1_picks.csv').drop(columns=['Unnamed: 0'])\n",
    "    enh_widget.value = picks_df.loc[0,'enh']\n",
    "    for i in range(10):\n",
    "        game_label[i].value = picks_df.loc[i,'line']\n",
    "        game_sel[i].value = picks_df.loc[i,'pick']\n",
    "        game_type[i].value = bool(picks_df.loc[i,'type'])\n",
    "        game_lotw[i].value = bool(picks_df.loc[i,'lotw'])\n",
    "\n",
    "    lotw_widget.value = picks_df.loc[0,'lotw_wager']    \n",
    "except:\n",
    "    pass\n",
    "html_widget1 = widgets.HTML(value='<b>Single Game Only</b> - Select if you dont want to play teasers or parlays', layout=widgets.Layout(width='50%'));\n",
    "html_widget2 = widgets.HTML(value='<b>2 Team Teaser</b> - Choose 2 games where you will receive 5 points against the line in your favor (e.g. If you wisely pick Lions (-6) against the Packers, it becomes Lions (-1).', layout=widgets.Layout(width='70%'));\n",
    "html_widget3 = widgets.HTML(value='<b>3 Team Teaser</b> - Choose 3 games where you will receive 7.5 points against the line in your favor (e.g. If you wisely pick Lions (+3) at the Cowboys, it becomes Lions (+10.5).', layout=widgets.Layout(width='70%'));\n",
    "html_widget4 = widgets.HTML(value='<b>2/3 Team Parlays</b> - Choose 2 teams to double your points or 3 teams to triple your points if they both hit (Note: No line adjustments)', layout=widgets.Layout(width='50%'));\n",
    "html_widget5 = widgets.HTML(value='<b>Parlay/Teaser Disclaimer - If one of the teams in your parlay/teaser loses, you lose the points for both games.  Also LOTW can be included in both </b>', layout=widgets.Layout(width='70%',margin=('0px 0px 15px 0px')));\n",
    "\n",
    "display(enh_widget,html_widget1,html_widget2,html_widget3,html_widget4,html_widget5,widgets.HBox([desc_widget1,desc_widget2,desc_widget5,desc_widget3,desc_widget4]) ,ui[0],ui[1],ui[2],ui[3],ui[4],ui[5],ui[6],ui[7],ui[8],ui[9],out,widgets.HBox([lotw_label,lotw_widget]),submit_button,picks_out)"
   ]
  },
  {
   "cell_type": "markdown",
   "id": "dc6e3afb-28e1-4347-b32f-52a6309ac97f",
   "metadata": {},
   "source": [
    "## Jack and Jesse are the Kings"
   ]
  }
 ],
 "metadata": {
  "kernelspec": {
   "display_name": "Python 3 (ipykernel)",
   "language": "python",
   "name": "python3"
  },
  "language_info": {
   "codemirror_mode": {
    "name": "ipython",
    "version": 3
   },
   "file_extension": ".py",
   "mimetype": "text/x-python",
   "name": "python",
   "nbconvert_exporter": "python",
   "pygments_lexer": "ipython3",
   "version": "3.11.4"
  }
 },
 "nbformat": 4,
 "nbformat_minor": 5
}
