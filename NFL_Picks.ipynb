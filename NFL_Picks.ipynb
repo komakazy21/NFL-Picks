{
 "cells": [
  {
   "cell_type": "code",
   "execution_count": 1,
   "id": "44546316-40dd-4d90-b0b7-d2f1a819d6e6",
   "metadata": {
    "tags": []
   },
   "outputs": [
    {
     "ename": "FileNotFoundError",
     "evalue": "[Errno 2] No such file or directory: 'NFL_Lines.csv'",
     "output_type": "error",
     "traceback": [
      "\u001b[1;31m---------------------------------------------------------------------------\u001b[0m",
      "\u001b[1;31mFileNotFoundError\u001b[0m                         Traceback (most recent call last)",
      "Cell \u001b[1;32mIn[1], line 6\u001b[0m\n\u001b[0;32m      2\u001b[0m \u001b[38;5;28;01mimport\u001b[39;00m \u001b[38;5;21;01mpandas\u001b[39;00m \u001b[38;5;28;01mas\u001b[39;00m \u001b[38;5;21;01mpd\u001b[39;00m\n\u001b[0;32m      3\u001b[0m \u001b[38;5;28;01mimport\u001b[39;00m \u001b[38;5;21;01mipywidgets\u001b[39;00m \u001b[38;5;28;01mas\u001b[39;00m \u001b[38;5;21;01mwidgets\u001b[39;00m\n\u001b[1;32m----> 6\u001b[0m temp \u001b[38;5;241m=\u001b[39m pd\u001b[38;5;241m.\u001b[39mread_csv(\u001b[38;5;124m'\u001b[39m\u001b[38;5;124mNFL_Lines.csv\u001b[39m\u001b[38;5;124m'\u001b[39m,sep\u001b[38;5;241m=\u001b[39m\u001b[38;5;124m'\u001b[39m\u001b[38;5;124m,\u001b[39m\u001b[38;5;124m'\u001b[39m)\n\u001b[0;32m      8\u001b[0m spreads \u001b[38;5;241m=\u001b[39m {};\n\u001b[0;32m      9\u001b[0m spreads[\u001b[38;5;124m'\u001b[39m\u001b[38;5;124mhome team\u001b[39m\u001b[38;5;124m'\u001b[39m] \u001b[38;5;241m=\u001b[39m \u001b[38;5;28mlist\u001b[39m(temp\u001b[38;5;241m.\u001b[39miloc[:,\u001b[38;5;241m0\u001b[39m])\n",
      "File \u001b[1;32m~\\anaconda3\\Lib\\site-packages\\pandas\\util\\_decorators.py:211\u001b[0m, in \u001b[0;36mdeprecate_kwarg.<locals>._deprecate_kwarg.<locals>.wrapper\u001b[1;34m(*args, **kwargs)\u001b[0m\n\u001b[0;32m    209\u001b[0m     \u001b[38;5;28;01melse\u001b[39;00m:\n\u001b[0;32m    210\u001b[0m         kwargs[new_arg_name] \u001b[38;5;241m=\u001b[39m new_arg_value\n\u001b[1;32m--> 211\u001b[0m \u001b[38;5;28;01mreturn\u001b[39;00m func(\u001b[38;5;241m*\u001b[39margs, \u001b[38;5;241m*\u001b[39m\u001b[38;5;241m*\u001b[39mkwargs)\n",
      "File \u001b[1;32m~\\anaconda3\\Lib\\site-packages\\pandas\\util\\_decorators.py:331\u001b[0m, in \u001b[0;36mdeprecate_nonkeyword_arguments.<locals>.decorate.<locals>.wrapper\u001b[1;34m(*args, **kwargs)\u001b[0m\n\u001b[0;32m    325\u001b[0m \u001b[38;5;28;01mif\u001b[39;00m \u001b[38;5;28mlen\u001b[39m(args) \u001b[38;5;241m>\u001b[39m num_allow_args:\n\u001b[0;32m    326\u001b[0m     warnings\u001b[38;5;241m.\u001b[39mwarn(\n\u001b[0;32m    327\u001b[0m         msg\u001b[38;5;241m.\u001b[39mformat(arguments\u001b[38;5;241m=\u001b[39m_format_argument_list(allow_args)),\n\u001b[0;32m    328\u001b[0m         \u001b[38;5;167;01mFutureWarning\u001b[39;00m,\n\u001b[0;32m    329\u001b[0m         stacklevel\u001b[38;5;241m=\u001b[39mfind_stack_level(),\n\u001b[0;32m    330\u001b[0m     )\n\u001b[1;32m--> 331\u001b[0m \u001b[38;5;28;01mreturn\u001b[39;00m func(\u001b[38;5;241m*\u001b[39margs, \u001b[38;5;241m*\u001b[39m\u001b[38;5;241m*\u001b[39mkwargs)\n",
      "File \u001b[1;32m~\\anaconda3\\Lib\\site-packages\\pandas\\io\\parsers\\readers.py:950\u001b[0m, in \u001b[0;36mread_csv\u001b[1;34m(filepath_or_buffer, sep, delimiter, header, names, index_col, usecols, squeeze, prefix, mangle_dupe_cols, dtype, engine, converters, true_values, false_values, skipinitialspace, skiprows, skipfooter, nrows, na_values, keep_default_na, na_filter, verbose, skip_blank_lines, parse_dates, infer_datetime_format, keep_date_col, date_parser, dayfirst, cache_dates, iterator, chunksize, compression, thousands, decimal, lineterminator, quotechar, quoting, doublequote, escapechar, comment, encoding, encoding_errors, dialect, error_bad_lines, warn_bad_lines, on_bad_lines, delim_whitespace, low_memory, memory_map, float_precision, storage_options)\u001b[0m\n\u001b[0;32m    935\u001b[0m kwds_defaults \u001b[38;5;241m=\u001b[39m _refine_defaults_read(\n\u001b[0;32m    936\u001b[0m     dialect,\n\u001b[0;32m    937\u001b[0m     delimiter,\n\u001b[1;32m   (...)\u001b[0m\n\u001b[0;32m    946\u001b[0m     defaults\u001b[38;5;241m=\u001b[39m{\u001b[38;5;124m\"\u001b[39m\u001b[38;5;124mdelimiter\u001b[39m\u001b[38;5;124m\"\u001b[39m: \u001b[38;5;124m\"\u001b[39m\u001b[38;5;124m,\u001b[39m\u001b[38;5;124m\"\u001b[39m},\n\u001b[0;32m    947\u001b[0m )\n\u001b[0;32m    948\u001b[0m kwds\u001b[38;5;241m.\u001b[39mupdate(kwds_defaults)\n\u001b[1;32m--> 950\u001b[0m \u001b[38;5;28;01mreturn\u001b[39;00m _read(filepath_or_buffer, kwds)\n",
      "File \u001b[1;32m~\\anaconda3\\Lib\\site-packages\\pandas\\io\\parsers\\readers.py:605\u001b[0m, in \u001b[0;36m_read\u001b[1;34m(filepath_or_buffer, kwds)\u001b[0m\n\u001b[0;32m    602\u001b[0m _validate_names(kwds\u001b[38;5;241m.\u001b[39mget(\u001b[38;5;124m\"\u001b[39m\u001b[38;5;124mnames\u001b[39m\u001b[38;5;124m\"\u001b[39m, \u001b[38;5;28;01mNone\u001b[39;00m))\n\u001b[0;32m    604\u001b[0m \u001b[38;5;66;03m# Create the parser.\u001b[39;00m\n\u001b[1;32m--> 605\u001b[0m parser \u001b[38;5;241m=\u001b[39m TextFileReader(filepath_or_buffer, \u001b[38;5;241m*\u001b[39m\u001b[38;5;241m*\u001b[39mkwds)\n\u001b[0;32m    607\u001b[0m \u001b[38;5;28;01mif\u001b[39;00m chunksize \u001b[38;5;129;01mor\u001b[39;00m iterator:\n\u001b[0;32m    608\u001b[0m     \u001b[38;5;28;01mreturn\u001b[39;00m parser\n",
      "File \u001b[1;32m~\\anaconda3\\Lib\\site-packages\\pandas\\io\\parsers\\readers.py:1442\u001b[0m, in \u001b[0;36mTextFileReader.__init__\u001b[1;34m(self, f, engine, **kwds)\u001b[0m\n\u001b[0;32m   1439\u001b[0m     \u001b[38;5;28mself\u001b[39m\u001b[38;5;241m.\u001b[39moptions[\u001b[38;5;124m\"\u001b[39m\u001b[38;5;124mhas_index_names\u001b[39m\u001b[38;5;124m\"\u001b[39m] \u001b[38;5;241m=\u001b[39m kwds[\u001b[38;5;124m\"\u001b[39m\u001b[38;5;124mhas_index_names\u001b[39m\u001b[38;5;124m\"\u001b[39m]\n\u001b[0;32m   1441\u001b[0m \u001b[38;5;28mself\u001b[39m\u001b[38;5;241m.\u001b[39mhandles: IOHandles \u001b[38;5;241m|\u001b[39m \u001b[38;5;28;01mNone\u001b[39;00m \u001b[38;5;241m=\u001b[39m \u001b[38;5;28;01mNone\u001b[39;00m\n\u001b[1;32m-> 1442\u001b[0m \u001b[38;5;28mself\u001b[39m\u001b[38;5;241m.\u001b[39m_engine \u001b[38;5;241m=\u001b[39m \u001b[38;5;28mself\u001b[39m\u001b[38;5;241m.\u001b[39m_make_engine(f, \u001b[38;5;28mself\u001b[39m\u001b[38;5;241m.\u001b[39mengine)\n",
      "File \u001b[1;32m~\\anaconda3\\Lib\\site-packages\\pandas\\io\\parsers\\readers.py:1735\u001b[0m, in \u001b[0;36mTextFileReader._make_engine\u001b[1;34m(self, f, engine)\u001b[0m\n\u001b[0;32m   1733\u001b[0m     \u001b[38;5;28;01mif\u001b[39;00m \u001b[38;5;124m\"\u001b[39m\u001b[38;5;124mb\u001b[39m\u001b[38;5;124m\"\u001b[39m \u001b[38;5;129;01mnot\u001b[39;00m \u001b[38;5;129;01min\u001b[39;00m mode:\n\u001b[0;32m   1734\u001b[0m         mode \u001b[38;5;241m+\u001b[39m\u001b[38;5;241m=\u001b[39m \u001b[38;5;124m\"\u001b[39m\u001b[38;5;124mb\u001b[39m\u001b[38;5;124m\"\u001b[39m\n\u001b[1;32m-> 1735\u001b[0m \u001b[38;5;28mself\u001b[39m\u001b[38;5;241m.\u001b[39mhandles \u001b[38;5;241m=\u001b[39m get_handle(\n\u001b[0;32m   1736\u001b[0m     f,\n\u001b[0;32m   1737\u001b[0m     mode,\n\u001b[0;32m   1738\u001b[0m     encoding\u001b[38;5;241m=\u001b[39m\u001b[38;5;28mself\u001b[39m\u001b[38;5;241m.\u001b[39moptions\u001b[38;5;241m.\u001b[39mget(\u001b[38;5;124m\"\u001b[39m\u001b[38;5;124mencoding\u001b[39m\u001b[38;5;124m\"\u001b[39m, \u001b[38;5;28;01mNone\u001b[39;00m),\n\u001b[0;32m   1739\u001b[0m     compression\u001b[38;5;241m=\u001b[39m\u001b[38;5;28mself\u001b[39m\u001b[38;5;241m.\u001b[39moptions\u001b[38;5;241m.\u001b[39mget(\u001b[38;5;124m\"\u001b[39m\u001b[38;5;124mcompression\u001b[39m\u001b[38;5;124m\"\u001b[39m, \u001b[38;5;28;01mNone\u001b[39;00m),\n\u001b[0;32m   1740\u001b[0m     memory_map\u001b[38;5;241m=\u001b[39m\u001b[38;5;28mself\u001b[39m\u001b[38;5;241m.\u001b[39moptions\u001b[38;5;241m.\u001b[39mget(\u001b[38;5;124m\"\u001b[39m\u001b[38;5;124mmemory_map\u001b[39m\u001b[38;5;124m\"\u001b[39m, \u001b[38;5;28;01mFalse\u001b[39;00m),\n\u001b[0;32m   1741\u001b[0m     is_text\u001b[38;5;241m=\u001b[39mis_text,\n\u001b[0;32m   1742\u001b[0m     errors\u001b[38;5;241m=\u001b[39m\u001b[38;5;28mself\u001b[39m\u001b[38;5;241m.\u001b[39moptions\u001b[38;5;241m.\u001b[39mget(\u001b[38;5;124m\"\u001b[39m\u001b[38;5;124mencoding_errors\u001b[39m\u001b[38;5;124m\"\u001b[39m, \u001b[38;5;124m\"\u001b[39m\u001b[38;5;124mstrict\u001b[39m\u001b[38;5;124m\"\u001b[39m),\n\u001b[0;32m   1743\u001b[0m     storage_options\u001b[38;5;241m=\u001b[39m\u001b[38;5;28mself\u001b[39m\u001b[38;5;241m.\u001b[39moptions\u001b[38;5;241m.\u001b[39mget(\u001b[38;5;124m\"\u001b[39m\u001b[38;5;124mstorage_options\u001b[39m\u001b[38;5;124m\"\u001b[39m, \u001b[38;5;28;01mNone\u001b[39;00m),\n\u001b[0;32m   1744\u001b[0m )\n\u001b[0;32m   1745\u001b[0m \u001b[38;5;28;01massert\u001b[39;00m \u001b[38;5;28mself\u001b[39m\u001b[38;5;241m.\u001b[39mhandles \u001b[38;5;129;01mis\u001b[39;00m \u001b[38;5;129;01mnot\u001b[39;00m \u001b[38;5;28;01mNone\u001b[39;00m\n\u001b[0;32m   1746\u001b[0m f \u001b[38;5;241m=\u001b[39m \u001b[38;5;28mself\u001b[39m\u001b[38;5;241m.\u001b[39mhandles\u001b[38;5;241m.\u001b[39mhandle\n",
      "File \u001b[1;32m~\\anaconda3\\Lib\\site-packages\\pandas\\io\\common.py:856\u001b[0m, in \u001b[0;36mget_handle\u001b[1;34m(path_or_buf, mode, encoding, compression, memory_map, is_text, errors, storage_options)\u001b[0m\n\u001b[0;32m    851\u001b[0m \u001b[38;5;28;01melif\u001b[39;00m \u001b[38;5;28misinstance\u001b[39m(handle, \u001b[38;5;28mstr\u001b[39m):\n\u001b[0;32m    852\u001b[0m     \u001b[38;5;66;03m# Check whether the filename is to be opened in binary mode.\u001b[39;00m\n\u001b[0;32m    853\u001b[0m     \u001b[38;5;66;03m# Binary mode does not support 'encoding' and 'newline'.\u001b[39;00m\n\u001b[0;32m    854\u001b[0m     \u001b[38;5;28;01mif\u001b[39;00m ioargs\u001b[38;5;241m.\u001b[39mencoding \u001b[38;5;129;01mand\u001b[39;00m \u001b[38;5;124m\"\u001b[39m\u001b[38;5;124mb\u001b[39m\u001b[38;5;124m\"\u001b[39m \u001b[38;5;129;01mnot\u001b[39;00m \u001b[38;5;129;01min\u001b[39;00m ioargs\u001b[38;5;241m.\u001b[39mmode:\n\u001b[0;32m    855\u001b[0m         \u001b[38;5;66;03m# Encoding\u001b[39;00m\n\u001b[1;32m--> 856\u001b[0m         handle \u001b[38;5;241m=\u001b[39m \u001b[38;5;28mopen\u001b[39m(\n\u001b[0;32m    857\u001b[0m             handle,\n\u001b[0;32m    858\u001b[0m             ioargs\u001b[38;5;241m.\u001b[39mmode,\n\u001b[0;32m    859\u001b[0m             encoding\u001b[38;5;241m=\u001b[39mioargs\u001b[38;5;241m.\u001b[39mencoding,\n\u001b[0;32m    860\u001b[0m             errors\u001b[38;5;241m=\u001b[39merrors,\n\u001b[0;32m    861\u001b[0m             newline\u001b[38;5;241m=\u001b[39m\u001b[38;5;124m\"\u001b[39m\u001b[38;5;124m\"\u001b[39m,\n\u001b[0;32m    862\u001b[0m         )\n\u001b[0;32m    863\u001b[0m     \u001b[38;5;28;01melse\u001b[39;00m:\n\u001b[0;32m    864\u001b[0m         \u001b[38;5;66;03m# Binary mode\u001b[39;00m\n\u001b[0;32m    865\u001b[0m         handle \u001b[38;5;241m=\u001b[39m \u001b[38;5;28mopen\u001b[39m(handle, ioargs\u001b[38;5;241m.\u001b[39mmode)\n",
      "\u001b[1;31mFileNotFoundError\u001b[0m: [Errno 2] No such file or directory: 'NFL_Lines.csv'"
     ]
    }
   ],
   "source": [
    "import numpy as np\n",
    "import pandas as pd\n",
    "import ipywidgets as widgets\n",
    "\n",
    "\n",
    "temp = pd.read_csv('NFL_Lines.csv',sep=',')\n",
    "\n",
    "spreads = {};\n",
    "spreads['home team'] = list(temp.iloc[:,0])\n",
    "spreads['home spread'] = temp.iloc[:,1].values\n",
    "spreads['road team'] = list(temp.iloc[:,2])\n",
    "spreads['road spread'] = spreads['home spread']*-1\n",
    "#df = pd.DataFrame(data=spreads)\n",
    "#df.to_csv('nfl_week3_lines.csv')\n",
    "email_widget = widgets.Text(value='',description='Your E-Mail:', width=300)\n",
    "display(email_widget)"
   ]
  },
  {
   "cell_type": "code",
   "execution_count": 20,
   "id": "3f88a9c4-c95e-4028-857e-31ca5c8b59be",
   "metadata": {
    "collapsed": true,
    "jupyter": {
     "outputs_hidden": true,
     "source_hidden": true
    },
    "tags": []
   },
   "outputs": [
    {
     "data": {
      "application/vnd.jupyter.widget-view+json": {
       "model_id": "6bb8c38360bb408fb22599583eae8254",
       "version_major": 2,
       "version_minor": 0
      },
      "text/plain": [
       "ToggleButtons(description='Pick what type of betting you want to play', layout=Layout(margin='30px 0px 30px 0p…"
      ]
     },
     "metadata": {},
     "output_type": "display_data"
    },
    {
     "data": {
      "application/vnd.jupyter.widget-view+json": {
       "model_id": "41d6d324dce548bfbb1ab9b81d2cbfc8",
       "version_major": 2,
       "version_minor": 0
      },
      "text/plain": [
       "HTML(value='<b>Single Game Only</b> - Select if you dont want to play teasers or parlays', layout=Layout(width…"
      ]
     },
     "metadata": {},
     "output_type": "display_data"
    },
    {
     "data": {
      "application/vnd.jupyter.widget-view+json": {
       "model_id": "9453e8ff18b4443abb9d05eb2aa08f80",
       "version_major": 2,
       "version_minor": 0
      },
      "text/plain": [
       "HTML(value='<b>2 Team Teaser</b> - Choose 2 games where you will receive 5 points against the line in your fav…"
      ]
     },
     "metadata": {},
     "output_type": "display_data"
    },
    {
     "data": {
      "application/vnd.jupyter.widget-view+json": {
       "model_id": "c69916bb30bf484f9df62dd77662cc8d",
       "version_major": 2,
       "version_minor": 0
      },
      "text/plain": [
       "HTML(value='<b>3 Team Teaser</b> - Choose 3 games where you will receive 7.5 points against the line in your f…"
      ]
     },
     "metadata": {},
     "output_type": "display_data"
    },
    {
     "data": {
      "application/vnd.jupyter.widget-view+json": {
       "model_id": "5846c2c2f5c641d08b96fd41cc0c6089",
       "version_major": 2,
       "version_minor": 0
      },
      "text/plain": [
       "HTML(value='<b>2/3 Team Parlays</b> - Choose 2 teams to double your points or 3 teams to triple your points if…"
      ]
     },
     "metadata": {},
     "output_type": "display_data"
    },
    {
     "data": {
      "application/vnd.jupyter.widget-view+json": {
       "model_id": "ac79880793dd4948b641d96470e3433b",
       "version_major": 2,
       "version_minor": 0
      },
      "text/plain": [
       "HTML(value='<b>Parlay/Teaser Disclaimer - If one of the teams in your parlay/teaser loses, you lose the points…"
      ]
     },
     "metadata": {},
     "output_type": "display_data"
    },
    {
     "data": {
      "application/vnd.jupyter.widget-view+json": {
       "model_id": "70676f60179b4b12a2c2f7f6e3d9b6bc",
       "version_major": 2,
       "version_minor": 0
      },
      "text/plain": [
       "HBox(children=(HTML(value='<b>Game Line</b>', layout=Layout(width='13%'), style=HTMLStyle(font_size='14px')), …"
      ]
     },
     "metadata": {},
     "output_type": "display_data"
    },
    {
     "data": {
      "application/vnd.jupyter.widget-view+json": {
       "model_id": "c5aa45575f6b4eae9a37fbe713e11591",
       "version_major": 2,
       "version_minor": 0
      },
      "text/plain": [
       "HBox(children=(Label(value='49ers (-9.5) vs. Giants', layout=Layout(width='10%')), ToggleButtons(options=('49e…"
      ]
     },
     "metadata": {},
     "output_type": "display_data"
    },
    {
     "data": {
      "application/vnd.jupyter.widget-view+json": {
       "model_id": "81d6c86d65ac4034acab21bc44a03c95",
       "version_major": 2,
       "version_minor": 0
      },
      "text/plain": [
       "HBox(children=(Label(value='Lions (-3.5) vs. Falcons', layout=Layout(width='10%')), ToggleButtons(options=('Li…"
      ]
     },
     "metadata": {},
     "output_type": "display_data"
    },
    {
     "data": {
      "application/vnd.jupyter.widget-view+json": {
       "model_id": "0198af8bbf324202896eb751ff057bc0",
       "version_major": 2,
       "version_minor": 0
      },
      "text/plain": [
       "HBox(children=(Label(value='Jets (2.5) vs. Patriots', layout=Layout(width='10%')), ToggleButtons(options=('Jet…"
      ]
     },
     "metadata": {},
     "output_type": "display_data"
    },
    {
     "data": {
      "application/vnd.jupyter.widget-view+json": {
       "model_id": "7b4ca78e6d0c4e10adce3891fe95025d",
       "version_major": 2,
       "version_minor": 0
      },
      "text/plain": [
       "HBox(children=(Label(value='Packers (-2.0) vs. Saints', layout=Layout(width='10%')), ToggleButtons(options=('P…"
      ]
     },
     "metadata": {},
     "output_type": "display_data"
    },
    {
     "data": {
      "application/vnd.jupyter.widget-view+json": {
       "model_id": "334fb90f911b4885b77e0b7b314d7eb3",
       "version_major": 2,
       "version_minor": 0
      },
      "text/plain": [
       "HBox(children=(Label(value='Jaguars (-9.5) vs. Texans', layout=Layout(width='10%')), ToggleButtons(options=('J…"
      ]
     },
     "metadata": {},
     "output_type": "display_data"
    },
    {
     "data": {
      "application/vnd.jupyter.widget-view+json": {
       "model_id": "63a176a8989d4f35934d375343de054b",
       "version_major": 2,
       "version_minor": 0
      },
      "text/plain": [
       "HBox(children=(Label(value='Vikings (0.0) vs. Chargers', layout=Layout(width='10%')), ToggleButtons(options=('…"
      ]
     },
     "metadata": {},
     "output_type": "display_data"
    },
    {
     "data": {
      "application/vnd.jupyter.widget-view+json": {
       "model_id": "ace8fa82d03b45579371a03d094cf386",
       "version_major": 2,
       "version_minor": 0
      },
      "text/plain": [
       "HBox(children=(Label(value='Cardinals (12.0) vs. Cowboys', layout=Layout(width='10%')), ToggleButtons(options=…"
      ]
     },
     "metadata": {},
     "output_type": "display_data"
    },
    {
     "data": {
      "application/vnd.jupyter.widget-view+json": {
       "model_id": "469164612249488495d723f82b247a17",
       "version_major": 2,
       "version_minor": 0
      },
      "text/plain": [
       "HBox(children=(Label(value='Raiders (-2.5) vs. Steelers', layout=Layout(width='10%')), ToggleButtons(options=(…"
      ]
     },
     "metadata": {},
     "output_type": "display_data"
    },
    {
     "data": {
      "application/vnd.jupyter.widget-view+json": {
       "model_id": "a45fdfe43d244174ab0a31b727e303ad",
       "version_major": 2,
       "version_minor": 0
      },
      "text/plain": [
       "HBox(children=(Label(value='Buccaneers (5.0) vs. Eagles', layout=Layout(width='10%')), ToggleButtons(options=(…"
      ]
     },
     "metadata": {},
     "output_type": "display_data"
    },
    {
     "data": {
      "application/vnd.jupyter.widget-view+json": {
       "model_id": "1bbfd135310547e981e5f80980672489",
       "version_major": 2,
       "version_minor": 0
      },
      "text/plain": [
       "HBox(children=(Label(value='Bengals (-2.5) vs. Rams', layout=Layout(width='10%')), ToggleButtons(options=('Ben…"
      ]
     },
     "metadata": {},
     "output_type": "display_data"
    },
    {
     "data": {
      "application/vnd.jupyter.widget-view+json": {
       "model_id": "512f32f204b0474ea9644baf67d87c86",
       "version_major": 2,
       "version_minor": 0
      },
      "text/plain": [
       "Output()"
      ]
     },
     "metadata": {},
     "output_type": "display_data"
    },
    {
     "data": {
      "application/vnd.jupyter.widget-view+json": {
       "model_id": "f14d7f8c8ae0450b838c49a46bcbc065",
       "version_major": 2,
       "version_minor": 0
      },
      "text/plain": [
       "HBox(children=(HTML(value='<b>Lock of the Week Wager:</b>'), IntText(value=5, layout=Layout(width='10%'))))"
      ]
     },
     "metadata": {},
     "output_type": "display_data"
    },
    {
     "data": {
      "application/vnd.jupyter.widget-view+json": {
       "model_id": "1269762cb7c048df9b5969cfc8520015",
       "version_major": 2,
       "version_minor": 0
      },
      "text/plain": [
       "Button(description='Submit Picks', layout=Layout(margin='30px 0px 30px 0px', width='10%'), style=ButtonStyle(b…"
      ]
     },
     "metadata": {},
     "output_type": "display_data"
    },
    {
     "data": {
      "application/vnd.jupyter.widget-view+json": {
       "model_id": "165bb07a3ba544efb9938158a9268b27",
       "version_major": 2,
       "version_minor": 0
      },
      "text/plain": [
       "Output()"
      ]
     },
     "metadata": {},
     "output_type": "display_data"
    }
   ],
   "source": [
    "\n",
    "\n",
    "\n",
    "def foo(enh,gl0,gs0,gt0,glotw0,gl1,gs1,gt1,glotw1,gl2,gs2,gt2,glotw2,gl3,gs3,gt3,glotw3,gl4,gs4,gt4,glotw4,gl5,gs5,gt5,glotw5,gl6,gs6,gt6,glotw6,gl7,gs7,gt7,glotw7,gl8,gs8,gt8,glotw8,gl9,gs9,gt9,glotw9):\n",
    "    global tcount,pcount,lcount,teasers,parlays,lotws\n",
    "    tcount=0; pcount=0; lcount=0;\n",
    "\n",
    "    if enh == 'Single Game Only':\n",
    "        tval =0\n",
    "        for i in range(10):\n",
    "            game_type[i].description = 'Single Game Only'\n",
    "            game_type[i].disabled= True\n",
    "\n",
    "    elif (enh == '2 Team Teaser')|(enh == '3 Team Teaser'):\n",
    "        for i in range(10):\n",
    "            game_type[i].description = enh\n",
    "            game_type[i].disabled= False\n",
    "        if enh == '2 Team Teaser':\n",
    "            tval = 5\n",
    "        else:\n",
    "            tval = 7.5\n",
    "       \n",
    "    elif (enh == '2 Team Parlay')|(enh == '3 Team Parlay'):\n",
    "        tval = 0\n",
    "        for i in range(10):\n",
    "            game_type[i].description = enh  \n",
    "            game_type[i].disabled= False\n",
    "\n",
    "    teasers = []; parlays = []; lotws = []\n",
    "    for i in range(10):\n",
    "        if (enh == '2 Team Teaser')|(enh == '3 Team Teaser'):\n",
    "            if game_type[i].value == True:\n",
    "                tcount = tcount + 1\n",
    "                if game_sel[i].value == spreads['home team'][i]:\n",
    "                    game_label[i].value = f'''{spreads['home team'][i]} ({spreads['home spread'][i] + tval}) vs. {spreads['road team'][i]}'''\n",
    "                else:\n",
    "                    game_label[i].value = f'''{spreads['home team'][i]} ({spreads['home spread'][i] - tval}) vs. {spreads['road team'][i]}'''\n",
    "                teasers.append(game_label[i].value)\n",
    "            else:\n",
    "                game_label[i].value = f'''{spreads['home team'][i]} ({spreads['home spread'][i]}) vs. {spreads['road team'][i]}'''\n",
    "        elif (enh == '2 Team Parlay')|(enh == '3 Team Parlay'):\n",
    "            if game_type[i].value == True:\n",
    "                pcount = pcount+1\n",
    "                game_label[i].value = f'''{spreads['home team'][i]} ({spreads['home spread'][i]}) vs. {spreads['road team'][i]}'''\n",
    "                parlays.append(game_label[i].value)\n",
    "        else:\n",
    "            game_label[i].value = f'''{spreads['home team'][i]} ({spreads['home spread'][i]}) vs. {spreads['road team'][i]}'''\n",
    "        \n",
    "        if game_lotw[i].value == True:\n",
    "            lcount=lcount+1\n",
    "\n",
    "game_label = {}; game_sel={}; game_type={}; game_lotw={}; ui={}\n",
    "\n",
    "enh_widget = widgets.ToggleButtons(description='Pick what type of betting you want to play',options=['Single Game Only','2 Team Teaser','3 Team Teaser', '2 Team Parlay', '3 Team Parlay'],layout=widgets.Layout(width='75%',margin='30px 0px 30px 0px'))\n",
    "for i in range(10):\n",
    "    game_label[i] = widgets.Label(value=f'''{spreads['home team'][i]} ({spreads['home spread'][i]}) vs. {spreads['road team'][i]}''', layout=widgets.Layout(width='10%'))\n",
    "    game_sel[i]= widgets.ToggleButtons(description='',value=None,options=[spreads['home team'][i],spreads['road team'][i]])\n",
    "    game_type[i] = widgets.Checkbox(description='Teaser')\n",
    "    game_lotw[i] = widgets.Checkbox(description='Lock of the Week?')\n",
    "    ui[i] = widgets.HBox([ game_label[i], game_sel[i], game_type[i], game_lotw[i]])\n",
    "\n",
    "def submit_picks(b):\n",
    "    global picks_df\n",
    "    # flag = 0\n",
    "    # if lcount != 1:\n",
    "    #     flag = 1\n",
    "    # if (enh_widget.value == '2 Team Teaser') & (tcount != 2):\n",
    "    #     flag = 1\n",
    "    # if (enh_widget.value == '3 Team Teaser') & (tcount != 3):\n",
    "    #     flag = 1\n",
    "    # if (enh_widget.value == '2 Team Parlay') & (pcount != 2):\n",
    "    #     flag = 1\n",
    "    # if (enh_widget.value == '3 Team Parlay') & (pcount != 3):\n",
    "    #     flag = 1\n",
    "    # picks_out.clear_output()\n",
    "    # if flag == 0:\n",
    "    picks = {};\n",
    "    picks['line'] = [ game_label[i].value for i in range(10)]\n",
    "    picks['pick'] = [ game_sel[i].value for i in range(10)]\n",
    "    picks['type'] = [ game_type[i].value for i in range(10)]\n",
    "    picks['lotw'] = [ game_lotw[i].value for i in range(10)]\n",
    "    picks['enh'] = [ enh_widget.value for i in range(10)]\n",
    "    picks['lotw_wager'] = [ lotw_widget.value for i in range(10)]\n",
    "    picks_df = pd.DataFrame(data=picks)\n",
    "    picks_df.to_csv(f'{email}_week3_picks.csv')    \n",
    "    submit_button.style.button_color = 'green'\n",
    "    with picks_out:\n",
    "        print('You Did it! Now download the picks spreadsheet and e-mail it to Eric (erick@vt.edu)')\n",
    "    # else:\n",
    "    #     with picks_out:\n",
    "    #         print('Dude you cant fallow simple directions?  Go back, figure where you fucked up, and try again')\n",
    "    #     submit_button.style.button_color = 'red'\n",
    "        \n",
    "submit_button = widgets.Button(description='Submit Picks',layout=widgets.Layout(width='10%',margin='30px 0px 30px 0px')); submit_button.style.button_color = 'orange'; submit_button.style.font_weight = 'bold'\n",
    "submit_button.on_click(submit_picks)\n",
    "picks_out =widgets.Output()\n",
    "out = widgets.interactive_output(foo,{'enh': enh_widget, \\\n",
    "                                      'gl0':game_label[0],'gs0': game_sel[0], 'gt0':game_type[0], 'glotw0': game_lotw[0] ,\\\n",
    "                                      'gl1':game_label[1],'gs1': game_sel[1], 'gt1':game_type[1], 'glotw1': game_lotw[1] ,\\\n",
    "                                      'gl2':game_label[2],'gs2': game_sel[2], 'gt2':game_type[2], 'glotw2': game_lotw[2] ,\\\n",
    "                                      'gl3':game_label[3],'gs3': game_sel[3], 'gt3':game_type[3], 'glotw3': game_lotw[3] ,\\\n",
    "                                      'gl4':game_label[4],'gs4': game_sel[4], 'gt4':game_type[4], 'glotw4': game_lotw[4] ,\\\n",
    "                                      'gl5':game_label[5],'gs5': game_sel[5], 'gt5':game_type[5], 'glotw5': game_lotw[5] ,\\\n",
    "                                      'gl6':game_label[6],'gs6': game_sel[6], 'gt6':game_type[6], 'glotw6': game_lotw[6] ,\\\n",
    "                                      'gl7':game_label[7],'gs7': game_sel[7], 'gt7':game_type[7], 'glotw7': game_lotw[7] ,\\\n",
    "                                      'gl8':game_label[8],'gs8': game_sel[8], 'gt8':game_type[8], 'glotw8': game_lotw[8] ,\\\n",
    "                                      'gl9':game_label[9],'gs9': game_sel[9], 'gt9':game_type[9], 'glotw9': game_lotw[9] ,\\\n",
    "                                 \n",
    "                                     })\n",
    "\n",
    "desc_widget1 = widgets.HTML(value='<b>Game Line</b>', layout=widgets.Layout(width='13%')); desc_widget1.style.font_size = '14px'; desc_widget1.style.font_weight = 'bold'\n",
    "desc_widget2 = widgets.HTML(value='<b>Home Team</b>', layout=widgets.Layout(width='10%')); desc_widget2.style.font_size = '14px'; desc_widget2.style.font_weight = 'bold'\n",
    "desc_widget5 = widgets.HTML(value='<b>Road Team</b>', layout=widgets.Layout(width='9%')); desc_widget5.style.font_size = '14px'; desc_widget5.style.font_weight = 'bold'\n",
    "desc_widget3 = widgets.HTML(value='<b>Select Games to Tease/Parlay</b>', layout=widgets.Layout(width='18%')); desc_widget3.style.font_size = '14px'; desc_widget3.style.font_weight = 'bold'\n",
    "desc_widget4 = widgets.HTML(value='<b>Select one game for LOTW</b>', layout=widgets.Layout(width='12%')); desc_widget4.style.font_size = '14px'; desc_widget4.style.font_weight = 'bold'\n",
    "lotw_label = widgets.HTML(value='<b>Lock of the Week Wager:</b>')\n",
    "lotw_widget = widgets.IntText(value=5,min=5,max=10, layout=widgets.Layout(width='10%'))\n",
    "global email\n",
    "email = email_widget.value\n",
    "try:\n",
    "    picks_df = pd.read_csv(f'{email}_picks.csv').drop(columns=['Unnamed: 0'])\n",
    "    enh_widget.value = picks_df.loc[0,'enh']\n",
    "    for i in range(10):\n",
    "        game_label[i].value = picks_df.loc[i,'line']\n",
    "        game_sel[i].value = picks_df.loc[i,'pick']\n",
    "        game_type[i].value = bool(picks_df.loc[i,'type'])\n",
    "        game_lotw[i].value = bool(picks_df.loc[i,'lotw'])\n",
    "\n",
    "    lotw_widget.value = picks_df.loc[0,'lotw_wager']    \n",
    "except:\n",
    "    pass\n",
    "html_widget1 = widgets.HTML(value='<b>Single Game Only</b> - Select if you dont want to play teasers or parlays', layout=widgets.Layout(width='50%'));\n",
    "html_widget2 = widgets.HTML(value='<b>2 Team Teaser</b> - Choose 2 games where you will receive 5 points against the line in your favor (e.g. If you wisely pick Lions (-6) against the Packers, it becomes Lions (-1).', layout=widgets.Layout(width='70%'));\n",
    "html_widget3 = widgets.HTML(value='<b>3 Team Teaser</b> - Choose 3 games where you will receive 7.5 points against the line in your favor (e.g. If you wisely pick Lions (+3) at the Cowboys, it becomes Lions (+10.5).', layout=widgets.Layout(width='70%'));\n",
    "html_widget4 = widgets.HTML(value='<b>2/3 Team Parlays</b> - Choose 2 teams to double your points or 3 teams to triple your points if they both hit (Note: No line adjustments)', layout=widgets.Layout(width='50%'));\n",
    "html_widget5 = widgets.HTML(value='<b>Parlay/Teaser Disclaimer - If one of the teams in your parlay/teaser loses, you lose the points for both games.  Also LOTW can be included in both </b>', layout=widgets.Layout(width='70%',margin=('0px 0px 15px 0px')));\n",
    "\n",
    "display(enh_widget,html_widget1,html_widget2,html_widget3,html_widget4,html_widget5,widgets.HBox([desc_widget1,desc_widget2,desc_widget5,desc_widget3,desc_widget4]) ,ui[0],ui[1],ui[2],ui[3],ui[4],ui[5],ui[6],ui[7],ui[8],ui[9],out,widgets.HBox([lotw_label,lotw_widget]),submit_button,picks_out)"
   ]
  },
  {
   "cell_type": "markdown",
   "id": "dc6e3afb-28e1-4347-b32f-52a6309ac97f",
   "metadata": {},
   "source": [
    "## Kris is the King"
   ]
  }
 ],
 "metadata": {
  "kernelspec": {
   "display_name": "Python 3 (ipykernel)",
   "language": "python",
   "name": "python3"
  },
  "language_info": {
   "codemirror_mode": {
    "name": "ipython",
    "version": 3
   },
   "file_extension": ".py",
   "mimetype": "text/x-python",
   "name": "python",
   "nbconvert_exporter": "python",
   "pygments_lexer": "ipython3",
   "version": "3.11.4"
  }
 },
 "nbformat": 4,
 "nbformat_minor": 5
}
