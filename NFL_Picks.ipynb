{
 "cells": [
  {
   "cell_type": "code",
   "execution_count": 8,
   "id": "921ac0ce-6d82-4b4f-8c71-be6b0f84f6be",
   "metadata": {
    "jupyter": {
     "source_hidden": true
    },
    "tags": []
   },
   "outputs": [
    {
     "data": {
      "application/vnd.jupyter.widget-view+json": {
       "model_id": "41cdcc42430d4786bec0e737b14325e8",
       "version_major": 2,
       "version_minor": 0
      },
      "text/plain": [
       "Text(value='', description='Your E-Mail:')"
      ]
     },
     "metadata": {},
     "output_type": "display_data"
    },
    {
     "data": {
      "application/vnd.jupyter.widget-view+json": {
       "model_id": "89c0efbe95bf4c60ac2401fea1bad385",
       "version_major": 2,
       "version_minor": 0
      },
      "text/plain": [
       "ToggleButtons(description='Bet Type:', options=('Single Game Only', '2 Team Teaser', '3 Team Teaser', '2 Team …"
      ]
     },
     "metadata": {},
     "output_type": "display_data"
    },
    {
     "data": {
      "application/vnd.jupyter.widget-view+json": {
       "model_id": "3376a46046844fbdbb83d57627823e41",
       "version_major": 2,
       "version_minor": 0
      },
      "text/plain": [
       "HBox(children=(Text(value='Chiefs (-6.5) vs. Lions', description='Line:'), ToggleButtons(options=('Chiefs', 'L…"
      ]
     },
     "metadata": {},
     "output_type": "display_data"
    },
    {
     "data": {
      "application/vnd.jupyter.widget-view+json": {
       "model_id": "848b1bc81938465a9f4685287d50a029",
       "version_major": 2,
       "version_minor": 0
      },
      "text/plain": [
       "HBox(children=(Text(value='Ravens (-10.0) vs. Texans', description='Line:'), ToggleButtons(options=('Ravens', …"
      ]
     },
     "metadata": {},
     "output_type": "display_data"
    },
    {
     "data": {
      "application/vnd.jupyter.widget-view+json": {
       "model_id": "82ac76be623848ce8ecba16c8b702b28",
       "version_major": 2,
       "version_minor": 0
      },
      "text/plain": [
       "HBox(children=(Text(value='Bengals (-2.5) vs. Browns', description='Line:'), ToggleButtons(options=('Bengals',…"
      ]
     },
     "metadata": {},
     "output_type": "display_data"
    },
    {
     "data": {
      "application/vnd.jupyter.widget-view+json": {
       "model_id": "8d00c61497b542ac8476ed927a85f7c7",
       "version_major": 2,
       "version_minor": 0
      },
      "text/plain": [
       "HBox(children=(Text(value='Saints (-3.0) vs. Titans', description='Line:'), ToggleButtons(options=('Saints', '…"
      ]
     },
     "metadata": {},
     "output_type": "display_data"
    },
    {
     "data": {
      "application/vnd.jupyter.widget-view+json": {
       "model_id": "4baca96655204bdeb16a10675058431a",
       "version_major": 2,
       "version_minor": 0
      },
      "text/plain": [
       "HBox(children=(Text(value='Steelers (2.5) vs. 49ers', description='Line:'), ToggleButtons(options=('Steelers',…"
      ]
     },
     "metadata": {},
     "output_type": "display_data"
    },
    {
     "data": {
      "application/vnd.jupyter.widget-view+json": {
       "model_id": "44024c3d956e4e9dbb025e599424280f",
       "version_major": 2,
       "version_minor": 0
      },
      "text/plain": [
       "HBox(children=(Text(value='Chargers (-3.0) vs. Dolphins', description='Line:'), ToggleButtons(options=('Charge…"
      ]
     },
     "metadata": {},
     "output_type": "display_data"
    },
    {
     "data": {
      "application/vnd.jupyter.widget-view+json": {
       "model_id": "92805e22bb3c455fa80e0fed921fe484",
       "version_major": 2,
       "version_minor": 0
      },
      "text/plain": [
       "HBox(children=(Text(value='Patriots (4.0) vs. Eagles', description='Line:'), ToggleButtons(options=('Patriots'…"
      ]
     },
     "metadata": {},
     "output_type": "display_data"
    },
    {
     "data": {
      "application/vnd.jupyter.widget-view+json": {
       "model_id": "75eab522c7e541039daa7da7869ad747",
       "version_major": 2,
       "version_minor": 0
      },
      "text/plain": [
       "HBox(children=(Text(value='Bears (-1.0) vs. Packers', description='Line:'), ToggleButtons(options=('Bears', 'P…"
      ]
     },
     "metadata": {},
     "output_type": "display_data"
    },
    {
     "data": {
      "application/vnd.jupyter.widget-view+json": {
       "model_id": "5e158961ecfe498995c7955e02473d62",
       "version_major": 2,
       "version_minor": 0
      },
      "text/plain": [
       "HBox(children=(Text(value='Giants (3.5) vs. Cowboys', description='Line:'), ToggleButtons(options=('Giants', '…"
      ]
     },
     "metadata": {},
     "output_type": "display_data"
    },
    {
     "data": {
      "application/vnd.jupyter.widget-view+json": {
       "model_id": "544d213efeff45c0a19b9032e0369435",
       "version_major": 2,
       "version_minor": 0
      },
      "text/plain": [
       "HBox(children=(Text(value='Jets (2.5) vs. Bills', description='Line:'), ToggleButtons(options=('Jets', 'Bills'…"
      ]
     },
     "metadata": {},
     "output_type": "display_data"
    },
    {
     "data": {
      "application/vnd.jupyter.widget-view+json": {
       "model_id": "616a7794cf4a4c4b9d6efea24c61ec12",
       "version_major": 2,
       "version_minor": 0
      },
      "text/plain": [
       "Output()"
      ]
     },
     "metadata": {},
     "output_type": "display_data"
    },
    {
     "data": {
      "application/vnd.jupyter.widget-view+json": {
       "model_id": "e2b674411b134737b3d72ccb6c80b9a0",
       "version_major": 2,
       "version_minor": 0
      },
      "text/plain": [
       "Button(description='Submit Picks', style=ButtonStyle())"
      ]
     },
     "metadata": {},
     "output_type": "display_data"
    },
    {
     "data": {
      "application/vnd.jupyter.widget-view+json": {
       "model_id": "9d8e8cfe2d3444bd8a29ed463118b9f6",
       "version_major": 2,
       "version_minor": 0
      },
      "text/plain": [
       "Output()"
      ]
     },
     "metadata": {},
     "output_type": "display_data"
    }
   ],
   "source": [
    "import numpy as np\n",
    "import pandas as pd\n",
    "import ipywidgets as widgets\n",
    "\n",
    "spreads = {};\n",
    "spreads['week 1'] = {}\n",
    "spreads['week 1']['home team'] = ['Chiefs', 'Ravens', 'Bengals', 'Saints', 'Steelers', 'Chargers', 'Patriots', 'Bears', 'Giants', 'Jets']\n",
    "spreads['week 1']['home spread'] = np.array([-6.5, -10, -2.5, -3, 2.5, -3, 4, -1, 3.5, 2.5])\n",
    "spreads['week 1']['road team'] = ['Lions', 'Texans', 'Browns', 'Titans', '49ers', 'Dolphins', 'Eagles', 'Packers', 'Cowboys', 'Bills']\n",
    "spreads['week 1']['road spread'] = spreads['week 1']['home spread']*-1\n",
    "\n",
    "df = pd.DataFrame(data=spreads['week 1'])\n",
    "df.to_csv('nfl_week1_lines.csv')\n",
    "\n",
    "\n",
    "def foo(e,enh,gl0,gs0,gt0,glotw0,gl1,gs1,gt1,glotw1,gl2,gs2,gt2,glotw2,gl3,gs3,gt3,glotw3,gl4,gs4,gt4,glotw4,gl5,gs5,gt5,glotw5,gl6,gs6,gt6,glotw6,gl7,gs7,gt7,glotw7,gl8,gs8,gt8,glotw8,gl9,gs9,gt9,glotw9):\n",
    "    global email,tcount,pcount,lcount,teasers,parlays,lotws\n",
    "    tcount=0; pcount=0; lcount=0;\n",
    "    email = e\n",
    "    if enh == 'Single Game Only':\n",
    "        tval =0\n",
    "        for i in range(10):\n",
    "            game_type[i].options = ['Single Game']\n",
    "\n",
    "    elif (enh == '2 Team Teaser')|(enh == '3 Team Teaser'):\n",
    "        for i in range(10):\n",
    "            game_type[i].options = ['Single Game','Teaser']    \n",
    "\n",
    "        if enh == '2 Team Teaser':\n",
    "            tval = 3\n",
    "        else:\n",
    "            tval = 6\n",
    "       \n",
    "    elif (enh == '2 Team Parlay')|(enh == '3 Team Parlay'):\n",
    "        tval = 0\n",
    "        for i in range(10):\n",
    "            game_type[i].options = ['Single Game','Parlay']    \n",
    "\n",
    "    teasers = []; parlays = []; lotws = []\n",
    "    for i in range(10):\n",
    "        if game_type[i].value == 'Teaser':\n",
    "            tcount = tcount + 1\n",
    "            if game_sel[i].value == spreads['week 1']['home team'][i]:\n",
    "                game_label[i].value = f'''{spreads['week 1']['home team'][i]} ({spreads['week 1']['home spread'][i] + tval}) vs. {spreads['week 1']['road team'][i]}'''\n",
    "            else:\n",
    "                game_label[i].value = f'''{spreads['week 1']['home team'][i]} ({spreads['week 1']['home spread'][i] - tval}) vs. {spreads['week 1']['road team'][i]}'''\n",
    "            teasers.append(game_label[i].value)\n",
    "        elif game_type[i].value == 'Parlay':\n",
    "            game_label[i].value = f'''{spreads['week 1']['home team'][i]} ({spreads['week 1']['home spread'][i]}) vs. {spreads['week 1']['road team'][i]}'''\n",
    "            parlays.append(game_label[i].value)\n",
    "        else:\n",
    "            game_label[i].value = f'''{spreads['week 1']['home team'][i]} ({spreads['week 1']['home spread'][i]}) vs. {spreads['week 1']['road team'][i]}'''\n",
    "\n",
    "game_label = {}; game_sel={}; game_type={}; game_lotw={}; ui={}\n",
    "email_widget = widgets.Text(value='',description='Your E-Mail:', width=300)\n",
    "enh_widget = widgets.ToggleButtons(description='Bet Type:',options=['Single Game Only','2 Team Teaser','3 Team Teaser', '2 Team Parlay', '3 Team Parlay'])\n",
    "i=0\n",
    "game_label[i] = widgets.Text(description='Line:',value=f'''{spreads['week 1']['home team'][i]} ({spreads['week 1']['home spread'][i]}) vs. {spreads['week 1']['road team'][i]}''',disable=False)\n",
    "game_sel[i]= widgets.ToggleButtons(description='',value= spreads['week 1']['home team'][i],options=[spreads['week 1']['home team'][i],spreads['week 1']['road team'][i]])\n",
    "game_type[i] = widgets.Dropdown(description='Bet Type:',options=['Single Game','Parlay','Teaser'],width=150)\n",
    "game_lotw[i] = widgets.Checkbox(description='Lock of the Week?')\n",
    "ui[i] = widgets.HBox([ game_label[i], game_sel[i], game_type[i], game_lotw[i]])\n",
    "\n",
    "i=1\n",
    "game_label[i] = widgets.Text(description='Line:',value=f'''{spreads['week 1']['home team'][i]} ({spreads['week 1']['home spread'][i]}) vs. {spreads['week 1']['road team'][i]}''',disable=False)\n",
    "game_sel[i]= widgets.ToggleButtons(description='',value= spreads['week 1']['home team'][i],options=[spreads['week 1']['home team'][i],spreads['week 1']['road team'][i]])\n",
    "game_type[i] = widgets.Dropdown(description='Bet Type:',options=['Single Game','Parlay','Teaser'],width=150)\n",
    "game_lotw[i] = widgets.Checkbox(description='Lock of the Week?')\n",
    "ui[i] = widgets.HBox([ game_label[i], game_sel[i], game_type[i], game_lotw[i]])\n",
    "\n",
    "i=2\n",
    "game_label[i] = widgets.Text(description='Line:',value=f'''{spreads['week 1']['home team'][i]} ({spreads['week 1']['home spread'][i]}) vs. {spreads['week 1']['road team'][i]}''',disable=False)\n",
    "game_sel[i]= widgets.ToggleButtons(description='',value= spreads['week 1']['home team'][i],options=[spreads['week 1']['home team'][i],spreads['week 1']['road team'][i]])\n",
    "game_type[i] = widgets.Dropdown(description='Bet Type:',options=['Single Game','Parlay','Teaser'],width=150)\n",
    "game_lotw[i] = widgets.Checkbox(description='Lock of the Week?')\n",
    "ui[i] = widgets.HBox([ game_label[i], game_sel[i], game_type[i], game_lotw[i]])\n",
    "\n",
    "i=3\n",
    "game_label[i] = widgets.Text(description='Line:',value=f'''{spreads['week 1']['home team'][i]} ({spreads['week 1']['home spread'][i]}) vs. {spreads['week 1']['road team'][i]}''',disable=False)\n",
    "game_sel[i]= widgets.ToggleButtons(description='',value= spreads['week 1']['home team'][i],options=[spreads['week 1']['home team'][i],spreads['week 1']['road team'][i]])\n",
    "game_type[i] = widgets.Dropdown(description='Bet Type:',options=['Single Game','Parlay','Teaser'],width=150)\n",
    "game_lotw[i] = widgets.Checkbox(description='Lock of the Week?')\n",
    "ui[i] = widgets.HBox([ game_label[i], game_sel[i], game_type[i], game_lotw[i]])\n",
    "\n",
    "i=4\n",
    "game_label[i] = widgets.Text(description='Line:',value=f'''{spreads['week 1']['home team'][i]} ({spreads['week 1']['home spread'][i]}) vs. {spreads['week 1']['road team'][i]}''',disable=False)\n",
    "game_sel[i]= widgets.ToggleButtons(description='',value= spreads['week 1']['home team'][i],options=[spreads['week 1']['home team'][i],spreads['week 1']['road team'][i]])\n",
    "game_type[i] = widgets.Dropdown(description='Bet Type:',options=['Single Game','Parlay','Teaser'],width=150)\n",
    "game_lotw[i] = widgets.Checkbox(description='Lock of the Week?')\n",
    "ui[i] = widgets.HBox([ game_label[i], game_sel[i], game_type[i], game_lotw[i]])\n",
    "\n",
    "i=5\n",
    "game_label[i] = widgets.Text(description='Line:',value=f'''{spreads['week 1']['home team'][i]} ({spreads['week 1']['home spread'][i]}) vs. {spreads['week 1']['road team'][i]}''',disable=False)\n",
    "game_sel[i]= widgets.ToggleButtons(description='',value= spreads['week 1']['home team'][i],options=[spreads['week 1']['home team'][i],spreads['week 1']['road team'][i]])\n",
    "game_type[i] = widgets.Dropdown(description='Bet Type:',options=['Single Game','Parlay','Teaser'],width=150)\n",
    "game_lotw[i] = widgets.Checkbox(description='Lock of the Week?')\n",
    "ui[i] = widgets.HBox([ game_label[i], game_sel[i], game_type[i], game_lotw[i]])\n",
    "\n",
    "i=6\n",
    "game_label[i] = widgets.Text(description='Line:',value=f'''{spreads['week 1']['home team'][i]} ({spreads['week 1']['home spread'][i]}) vs. {spreads['week 1']['road team'][i]}''',disable=False)\n",
    "game_sel[i]= widgets.ToggleButtons(description='',value= spreads['week 1']['home team'][i],options=[spreads['week 1']['home team'][i],spreads['week 1']['road team'][i]])\n",
    "game_type[i] = widgets.Dropdown(description='Bet Type:',options=['Single Game','Parlay','Teaser'],width=150)\n",
    "game_lotw[i] = widgets.Checkbox(description='Lock of the Week?')\n",
    "ui[i] = widgets.HBox([ game_label[i], game_sel[i], game_type[i], game_lotw[i]])\n",
    "\n",
    "i=7\n",
    "game_label[i] = widgets.Text(description='Line:',value=f'''{spreads['week 1']['home team'][i]} ({spreads['week 1']['home spread'][i]}) vs. {spreads['week 1']['road team'][i]}''',disable=False)\n",
    "game_sel[i]= widgets.ToggleButtons(description='',value= spreads['week 1']['home team'][i],options=[spreads['week 1']['home team'][i],spreads['week 1']['road team'][i]])\n",
    "game_type[i] = widgets.Dropdown(description='Bet Type:',options=['Single Game','Parlay','Teaser'],width=150)\n",
    "game_lotw[i] = widgets.Checkbox(description='Lock of the Week?')\n",
    "ui[i] = widgets.HBox([ game_label[i], game_sel[i], game_type[i], game_lotw[i]])\n",
    "\n",
    "i=8\n",
    "game_label[i] = widgets.Text(description='Line:',value=f'''{spreads['week 1']['home team'][i]} ({spreads['week 1']['home spread'][i]}) vs. {spreads['week 1']['road team'][i]}''',disable=False)\n",
    "game_sel[i]= widgets.ToggleButtons(description='',value= spreads['week 1']['home team'][i],options=[spreads['week 1']['home team'][i],spreads['week 1']['road team'][i]])\n",
    "game_type[i] = widgets.Dropdown(description='Bet Type:',options=['Single Game','Parlay','Teaser'],width=150)\n",
    "game_lotw[i] = widgets.Checkbox(description='Lock of the Week?')\n",
    "ui[i] = widgets.HBox([ game_label[i], game_sel[i], game_type[i], game_lotw[i]])\n",
    "\n",
    "i=9\n",
    "game_label[i] = widgets.Text(description='Line:',value=f'''{spreads['week 1']['home team'][i]} ({spreads['week 1']['home spread'][i]}) vs. {spreads['week 1']['road team'][i]}''',disable=False)\n",
    "game_sel[i]= widgets.ToggleButtons(description='',value= spreads['week 1']['home team'][i],options=[spreads['week 1']['home team'][i],spreads['week 1']['road team'][i]])\n",
    "game_type[i] = widgets.Dropdown(description='Bet Type:',options=['Single Game','Parlay','Teaser'],width=150)\n",
    "game_lotw[i] = widgets.Checkbox(description='Lock of the Week?')\n",
    "ui[i] = widgets.HBox([ game_label[i], game_sel[i], game_type[i], game_lotw[i]])\n",
    "\n",
    "def submit_picks(b):\n",
    "    flag = 0\n",
    "    if lcount > 1:\n",
    "        flag = 1\n",
    "    if (enh_widget.value == '2 Team Teaser') & (tcount != 2):\n",
    "        flag = 1\n",
    "    if (enh_widget.value == '3 Team Teaser') & (tcount != 3):\n",
    "        flag = 1\n",
    "    if (enh_widget.value == '2 Team Parlay') & (pcount != 2):\n",
    "        flag = 1\n",
    "    if (enh_widget.value == '3 Team Parlay') & (pcount != 3):\n",
    "        flag = 1\n",
    "    picks_out.clear_output()\n",
    "    if flag == 0:\n",
    "        picks = {};\n",
    "        picks['line'] = [ game_label[i].value for i in range(10)]\n",
    "        picks['pick'] = [ game_sel[i].value for i in range(10)]\n",
    "        picks['type'] = [ game_type[i].value for i in range(10)]\n",
    "        picks['lotw'] = [ game_lotw[i].value for i in range(10)]\n",
    "        picks_df = pd.DataFrame(data=picks)\n",
    "        picks_df.to_csv(f'{email}_week1_picks.csv')    \n",
    "        submit_button.style.button_color = 'green'\n",
    "        with picks_out:\n",
    "            print('You Did it! Now download the picks spreadsheet and e-mail it to Eric (erick@vt.edu)')\n",
    "    else:\n",
    "        with picks_out:\n",
    "            print('Dude you cant fallow simple directions?  Go back, figure where you fucked up, and try again')\n",
    "        submit_button.style.button_color = 'red'\n",
    "        \n",
    "submit_button = widgets.Button(description='Submit Picks')\n",
    "submit_button.on_click(submit_picks)\n",
    "picks_out =widgets.Output()\n",
    "out = widgets.interactive_output(foo,{'e': email_widget, 'enh': enh_widget, \\\n",
    "                                      'gl0':game_label[0],'gs0': game_sel[0], 'gt0':game_type[0], 'glotw0': game_lotw[0] ,\\\n",
    "                                      'gl1':game_label[1],'gs1': game_sel[1], 'gt1':game_type[1], 'glotw1': game_lotw[1] ,\\\n",
    "                                      'gl2':game_label[2],'gs2': game_sel[2], 'gt2':game_type[2], 'glotw2': game_lotw[2] ,\\\n",
    "                                      'gl3':game_label[3],'gs3': game_sel[3], 'gt3':game_type[3], 'glotw3': game_lotw[3] ,\\\n",
    "                                      'gl4':game_label[4],'gs4': game_sel[4], 'gt4':game_type[4], 'glotw4': game_lotw[4] ,\\\n",
    "                                      'gl5':game_label[5],'gs5': game_sel[5], 'gt5':game_type[5], 'glotw5': game_lotw[5] ,\\\n",
    "                                      'gl6':game_label[6],'gs6': game_sel[6], 'gt6':game_type[6], 'glotw6': game_lotw[6] ,\\\n",
    "                                      'gl7':game_label[7],'gs7': game_sel[7], 'gt7':game_type[7], 'glotw7': game_lotw[7] ,\\\n",
    "                                      'gl8':game_label[8],'gs8': game_sel[8], 'gt8':game_type[8], 'glotw8': game_lotw[8] ,\\\n",
    "                                      'gl9':game_label[9],'gs9': game_sel[9], 'gt9':game_type[9], 'glotw9': game_lotw[9] ,\\\n",
    "                                 \n",
    "                                     })\n",
    "\n",
    "display(email_widget,enh_widget,ui[0],ui[1],ui[2],ui[3],ui[4],ui[5],ui[6],ui[7],ui[8],ui[9],out,submit_button,picks_out)"
   ]
  }
 ],
 "metadata": {
  "kernelspec": {
   "display_name": "anaconda-2022.05-py39",
   "language": "python",
   "name": "conda-env-anaconda-2022.05-py39-py"
  },
  "language_info": {
   "codemirror_mode": {
    "name": "ipython",
    "version": 3
   },
   "file_extension": ".py",
   "mimetype": "text/x-python",
   "name": "python",
   "nbconvert_exporter": "python",
   "pygments_lexer": "ipython3",
   "version": "3.9.12"
  }
 },
 "nbformat": 4,
 "nbformat_minor": 5
}
